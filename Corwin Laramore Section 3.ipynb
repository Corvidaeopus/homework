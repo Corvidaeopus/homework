{
 "cells": [
  {
   "cell_type": "markdown",
   "metadata": {},
   "source": [
    "#### Data Types:\n",
    "\n",
    "<ins>Use markdown formatting for the following questions (e.g., bold lettering, bullet points, different font sizes, etc.)</ins>: \n",
    "\n",
    "1. What is an algorithm?\n",
    "#### An algorithm is a process a computer follows to solve problems or perform calculations.\n",
    "\n",
    "2. Variable names may not start with certain characters - name two.\n",
    "#### Numbers or White Space\n",
    "3. What is a Semantic error?\n",
    "#### Code that is grammatically correct but doesn't produce the intended results.\n",
    "4. What is the #1 rule of coding / debugging?\n",
    "#### Complexity if the enemy of efficiency\n",
    "5. List 5 Python reserved words.\n",
    "#### True, false, if, else, or"
   ]
  },
  {
   "cell_type": "markdown",
   "metadata": {},
   "source": [
    "<ins>Open a code cell in your Jupyter Notebook and write the following code</ins>:\n",
    "\n",
    "6. Write a multi-line string with your name, favorite food, and dream job on 3 different lines\n",
    "7. Assign 5 different data types to 5 different variables. At least one datatype must be a string  \n",
    "    - Print the length of your string\n",
    "    - Print the index value of the 4th character in your string\n",
    "8. Create a new variable called savvy, and assign it the string with this phrase \"Learning Data Analytics and Python is Awesome!\"\n",
    "    - Return a range of characters that slices the above string from the beginning of  \"ing\" up to before \"and\"\n",
    "    - Replace \"Awesome\" with \"great\" in the string\n",
    "    - Test and print the savvy string to see it contains \"Python\"\n",
    "9. Create and assign 3 more variables called name, age and length using the multi-variable  naming method\n",
    "    - Format a new string called 'miniBio' using variables in curly brackets to complete this phrase... \"Hi my name is (name), I am (tall) and (so) old today.\"\n",
    "    - Print 'miniBio'\n",
    "    - Cast and print the age variable to a float\n",
    "\n",
    "<br>"
   ]
  },
  {
   "cell_type": "code",
   "execution_count": 11,
   "metadata": {},
   "outputs": [
    {
     "name": "stdout",
     "output_type": "stream",
     "text": [
      "30\n",
      "c\n",
      "ing Data Analytics and \n",
      "Learning Data Analytics and Python is Awesome!\n",
      "Python is in string : Savvy\n",
      "Hi my name is Corwin, I am 71 inches and 32 old today.\n",
      "32.0\n"
     ]
    }
   ],
   "source": [
    "#Question 6\n",
    "testString6 = \"\"\"\n",
    "My name is Corwin Laramore\n",
    "My favorite food is all food\n",
    "My dream job is to not work. I do not dream of labor but of leisure.\n",
    "\"\"\"\n",
    "#Question 7\n",
    "testString7 = str(\"floccinauccinihilipilification\")\n",
    "testInt7 = int(42)\n",
    "testFloat7 = float (3.1415926)\n",
    "testBool7 = bool(True)\n",
    "testList7 = list([\"String\",\"List\",\"Integer\"])\n",
    "\n",
    "print (len(testString7))\n",
    "print (testString7[3])\n",
    "\n",
    "#Question 8\n",
    "savvy = \"Learning Data Analytics and Python is Awesome!\"\n",
    "print (savvy[5:28])\n",
    "print (savvy.replace (\"great\",\"Awesome\"))\n",
    "if \"Python\" in savvy:\n",
    "    print (\"Python is in string : Savvy\")\n",
    "\n",
    "#Question 9\n",
    "name, age, length =  \"Corwin\", 32, \"71 inches\"\n",
    "miniBio = \"Hi my name is {}, I am {} and {} old today.\"\n",
    "print (miniBio.format(name, length, age))\n",
    "age = float(age)\n",
    "print (age)\n"
   ]
  },
  {
   "cell_type": "markdown",
   "metadata": {},
   "source": [
    "#### Complex Data Types:\n",
    "\n",
    "<br>\n",
    "\n",
    "10. Create a list of at least 5 elements of mixed data types\n",
    "    - Replace a part of it with something else\n",
    "    - Append or insert several more items to the list\n",
    "    - Find and print the length of the list\n",
    "    - Slice a sub-section of the 1st list, and save it to a different 2nd list\n",
    "    - Print the 2nd list\n",
    "    - Extend your original list with the 2nd list sliced above\n",
    "    - Create a new list called \"simList\" containing at least 5 elements of the same data type, either string, integer, float, or Boolean\n",
    "    - Sort \"simList\", and print the list\n",
    "    - Copy the \"simList\" list to another 3rd list\n",
    "    - Add the 2nd and 3rd lists together into a 4th list"
   ]
  },
  {
   "cell_type": "code",
   "execution_count": 18,
   "metadata": {},
   "outputs": [
    {
     "name": "stdout",
     "output_type": "stream",
     "text": [
      "8\n",
      "3.1415926\n",
      "[3, 6, 18, 33, 57]\n"
     ]
    }
   ],
   "source": [
    "#Question 10\n",
    "testList10 = [\"This the the first variable\", 2, 3.1415926, \"Four\", \"Fife\"]\n",
    "\n",
    "testListExtend10 = (\"Several\", \"More\", \"Items\")\n",
    "testList10.extend(testListExtend10)\n",
    "print (len(testList10))\n",
    "\n",
    "testList10tac2 = testList10[2]\n",
    "print (testList10tac2)\n",
    "testList10.append(testList10tac2)\n",
    "\n",
    "simList = [3, 33, 18, 6, 57]\n",
    "simList.sort()\n",
    "print(simList)\n",
    "thirdList = simList\n",
    "fourthList = thirdList + simList\n"
   ]
  },
  {
   "cell_type": "markdown",
   "metadata": {},
   "source": [
    "11. Create a tuple of about 5 elements\n",
    "    - Multiply your tuple by 3 and save it to a new 2nd tuple\n",
    "    - Access and print the 12th element from the 2nd tuple\n",
    "    - Sort the 2nd tuple and print it\n",
    "    - Copy 4 specific elements from your 2nd tuple to a new 3nd tuple\n",
    "    - Unpack the 3rd tuple into 4 variables and print these variables\n",
    "    - Create a 4th tuple with single item 50 and print this tuple\n",
    "    - Add the 2nd and 3rd tuple together into a 5th tuple and print the tuple\n"
   ]
  },
  {
   "cell_type": "markdown",
   "metadata": {},
   "source": [
    "12. Create a set of about 3 elements\n",
    "    - Add a list of fruits to the above set and print the result\n",
    "    - Add a car element to your set\n",
    "    - Create a 2nd set with a few odd items\n",
    "    - Save the union of 1st set and 2nd set to a 3rd set\n",
    "    - Pop an element from the 2nd set, and print the remainder of the set\n",
    "    - Clear the 1st set and print the result\n",
    "    - Discard an element, and remove another element from the 3rd set\n",
    "    - Print the remainder of the 3rd set"
   ]
  },
  {
   "cell_type": "markdown",
   "metadata": {},
   "source": [
    "\n",
    "13. Create a dictionary with at least 5 values of different data types\n",
    "    - Print out 1 value\n",
    "    - Replace any one value in your dictionary with your name\n",
    "    - Add your favorite color to the dictionary\n",
    "    - Add a list, tuple or set to your dictionary\n",
    "    - Print a list of the dictionary keys\n",
    "    - Print a list of the dictionary values\n",
    "    - Copy your 1st dictionary into a 2nd dictionary\n",
    "    - Pop an item from the 2nd dictionary, and print the dictionary\n",
    "    - Remove all the elements from the 2nd dictionary and print the result\n"
   ]
  }
 ],
 "metadata": {
  "kernelspec": {
   "display_name": "Python 3",
   "language": "python",
   "name": "python3"
  },
  "language_info": {
   "codemirror_mode": {
    "name": "ipython",
    "version": 3
   },
   "file_extension": ".py",
   "mimetype": "text/x-python",
   "name": "python",
   "nbconvert_exporter": "python",
   "pygments_lexer": "ipython3",
   "version": "3.13.1"
  }
 },
 "nbformat": 4,
 "nbformat_minor": 2
}
