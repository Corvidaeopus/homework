{
 "cells": [
  {
   "cell_type": "markdown",
   "metadata": {},
   "source": [
    "## 1. What does Pandas stand for?\n",
    "### Pandas is a portmanteau of PANel DAta.\n",
    "\n",
    "## 2. What are the 2 collections used in Pandas?\n",
    "### Series and DataFrames\n",
    "## 3. Name 4 things Pandas can do for us.\n",
    "### Data cleaning, normalization, visualization, and inspection.\n",
    "## 4. To permanently sort a DataFrame, which keyword should one use with the `df.sort()` method?\n",
    "### You would use df.sort_values( by, inplace=True)\n",
    "## 5. What is a CSV?\n",
    "### A Comma Separated Values file, effectively a file where the data is formatted in tables with a comma separating the values,  hence the name\n",
    "## 6. When cleaning data what values do we not like in our data?\n",
    "### Null or missing values"
   ]
  },
  {
   "cell_type": "code",
   "execution_count": 21,
   "metadata": {},
   "outputs": [],
   "source": [
    "#Question 7\n",
    "\n",
    "import pandas as pd\n",
    "import numpy as np\n",
    "import copy\n",
    "\n",
    "array7 = np.array([[1, 2, 3], [4, 5, 6], [7, 8, 9], [10, 11, 12], ])\n",
    "array7 = np.reshape(array7, (2, 3, 2))\n",
    "\n",
    "#Question 8\n",
    "\n",
    "array8 = np.linspace(0, 20, 6)\n",
    "\n",
    "#Question 9\n",
    "array8Copy = copy.deepcopy(array8)\n",
    "\n",
    "\n"
   ]
  },
  {
   "cell_type": "code",
   "execution_count": 16,
   "metadata": {},
   "outputs": [
    {
     "data": {
      "text/plain": [
       "array([[[ 1,  2],\n",
       "        [ 3,  4],\n",
       "        [ 5,  6]],\n",
       "\n",
       "       [[ 7,  8],\n",
       "        [ 9, 10],\n",
       "        [11, 12]]])"
      ]
     },
     "execution_count": 16,
     "metadata": {},
     "output_type": "execute_result"
    }
   ],
   "source": [
    "array7"
   ]
  },
  {
   "cell_type": "code",
   "execution_count": 3,
   "metadata": {},
   "outputs": [
    {
     "data": {
      "text/plain": [
       "array([[25, 16],\n",
       "       [11,  2],\n",
       "       [13,  4],\n",
       "       [ 7, 81],\n",
       "       [ 5,  6],\n",
       "       [11, 12]])"
      ]
     },
     "execution_count": 3,
     "metadata": {},
     "output_type": "execute_result"
    }
   ],
   "source": [
    "#Question 10\n",
    "\n",
    "catArray0 = np.array([[25, 16]])\n",
    "catArray1 = np.array([[11, 2], [13, 4]])\n",
    "catArray2 = np.array([[7, 81], [5, 6], [11, 12]])\n",
    "newArray = np.concatenate ((catArray0, catArray1, catArray2))\n",
    "newArray"
   ]
  },
  {
   "cell_type": "code",
   "execution_count": 4,
   "metadata": {},
   "outputs": [
    {
     "data": {
      "text/plain": [
       "array([[ 5,  2],\n",
       "       [ 7,  4],\n",
       "       [11,  6],\n",
       "       [11, 12],\n",
       "       [13, 16],\n",
       "       [25, 81]])"
      ]
     },
     "execution_count": 4,
     "metadata": {},
     "output_type": "execute_result"
    }
   ],
   "source": [
    "#Question 11\n",
    "sortedArray = np.sort(newArray, axis = 0)\n",
    "sortedArray"
   ]
  },
  {
   "cell_type": "code",
   "execution_count": null,
   "metadata": {},
   "outputs": [],
   "source": [
    "#Question 12\n",
    "# Did not understand the question, awaiting clarification"
   ]
  },
  {
   "cell_type": "code",
   "execution_count": 37,
   "metadata": {},
   "outputs": [
    {
     "data": {
      "text/plain": [
       "array([ 0,  1,  2,  3,  4,  5,  6,  7, 10, 11, 12, 13, 14, 15, 16, 17, 20,\n",
       "       21, 22, 23, 24, 25, 26, 27])"
      ]
     },
     "execution_count": 37,
     "metadata": {},
     "output_type": "execute_result"
    }
   ],
   "source": [
    "#Question 13\n",
    "arrayOne = np.array([10, 11, 12, 13, 14, 15, 16, 17])\n",
    "arrayTwo = np.array([20, 21, 22, 23, 24, 25, 26, 27])\n",
    "arrayThree = np.array([ 0, 1, 2, 3, 4, 5, 6, 7])\n",
    "\n",
    "array13 = np.concatenate((arrayOne, arrayTwo, arrayThree), axis=0)\n",
    "comboArray = np.sort(array13)\n",
    "comboArray"
   ]
  },
  {
   "cell_type": "code",
   "execution_count": 53,
   "metadata": {},
   "outputs": [
    {
     "name": "stdout",
     "output_type": "stream",
     "text": [
      "1\n",
      "[ 2  3  4  5  6  7 10 11 12 13 14 15 16 17 20 21 22 23 24 25 26 27]\n",
      "[ 3  4  5  6  7 10 11 12 13 14]\n",
      "[22 23 24 25 26 27]\n",
      "[15 14 13 12 11 10  7  6  5  4  3  2  1  0]\n",
      "[20 22 24 26]\n",
      "[27]\n"
     ]
    }
   ],
   "source": [
    "print(comboArray[1])\n",
    "print(comboArray[2:])\n",
    "print(comboArray[3:13])\n",
    "print(comboArray[-6:])\n",
    "print(comboArray[-11::-1])\n",
    "print(comboArray[16::2])\n",
    "print(comboArray[-1::5]) #    - print sec7 - from the last element moving forward, every 5th element. This is a nonsense statement. There is no 5th element from the last element, nor is there any way to move forward through the array from the last element.\n"
   ]
  },
  {
   "cell_type": "code",
   "execution_count": 62,
   "metadata": {},
   "outputs": [
    {
     "data": {
      "text/html": [
       "<div>\n",
       "<style scoped>\n",
       "    .dataframe tbody tr th:only-of-type {\n",
       "        vertical-align: middle;\n",
       "    }\n",
       "\n",
       "    .dataframe tbody tr th {\n",
       "        vertical-align: top;\n",
       "    }\n",
       "\n",
       "    .dataframe thead th {\n",
       "        text-align: right;\n",
       "    }\n",
       "</style>\n",
       "<table border=\"1\" class=\"dataframe\">\n",
       "  <thead>\n",
       "    <tr style=\"text-align: right;\">\n",
       "      <th></th>\n",
       "      <th>Ingredient</th>\n",
       "      <th>Quantity</th>\n",
       "      <th>Unit</th>\n",
       "    </tr>\n",
       "  </thead>\n",
       "  <tbody>\n",
       "    <tr>\n",
       "      <th>0</th>\n",
       "      <td>Flour</td>\n",
       "      <td>4</td>\n",
       "      <td>Cups</td>\n",
       "    </tr>\n",
       "    <tr>\n",
       "      <th>1</th>\n",
       "      <td>Milk</td>\n",
       "      <td>1</td>\n",
       "      <td>cup</td>\n",
       "    </tr>\n",
       "    <tr>\n",
       "      <th>2</th>\n",
       "      <td>Eggs</td>\n",
       "      <td>2</td>\n",
       "      <td>Large</td>\n",
       "    </tr>\n",
       "    <tr>\n",
       "      <th>3</th>\n",
       "      <td>Spam</td>\n",
       "      <td>1</td>\n",
       "      <td>Can</td>\n",
       "    </tr>\n",
       "  </tbody>\n",
       "</table>\n",
       "</div>"
      ],
      "text/plain": [
       "  Ingredient  Quantity   Unit\n",
       "0      Flour         4   Cups\n",
       "1       Milk         1    cup\n",
       "2       Eggs         2  Large\n",
       "3       Spam         1    Can"
      ]
     },
     "execution_count": 62,
     "metadata": {},
     "output_type": "execute_result"
    }
   ],
   "source": [
    "#Question 15\n",
    "stuffIngredients = pd.Series([\"Flour\", \"Milk\", \"Eggs\", \"Spam\"], name= \"Ingredient\")\n",
    "stuffQuantity = pd.Series([4, 1, 2, 1], name= \"Quantity\")\n",
    "stuffUnit = pd.Series([\"Cups\", \"cup\", \"Large\", \"Can\"], name = \"Unit\")\n",
    "\n",
    "df = pd.DataFrame(stuffIngredients).join(stuffQuantity).join(stuffUnit)\n",
    "df"
   ]
  },
  {
   "cell_type": "code",
   "execution_count": 67,
   "metadata": {},
   "outputs": [
    {
     "data": {
      "text/html": [
       "<div>\n",
       "<style scoped>\n",
       "    .dataframe tbody tr th:only-of-type {\n",
       "        vertical-align: middle;\n",
       "    }\n",
       "\n",
       "    .dataframe tbody tr th {\n",
       "        vertical-align: top;\n",
       "    }\n",
       "\n",
       "    .dataframe thead th {\n",
       "        text-align: right;\n",
       "    }\n",
       "</style>\n",
       "<table border=\"1\" class=\"dataframe\">\n",
       "  <thead>\n",
       "    <tr style=\"text-align: right;\">\n",
       "      <th></th>\n",
       "      <th>Name</th>\n",
       "      <th>Height</th>\n",
       "      <th>Qualification</th>\n",
       "      <th>address</th>\n",
       "      <th>Age</th>\n",
       "      <th>Pets</th>\n",
       "      <th>sport</th>\n",
       "      <th>Favorite Dessert</th>\n",
       "    </tr>\n",
       "  </thead>\n",
       "  <tbody>\n",
       "    <tr>\n",
       "      <th>3</th>\n",
       "      <td>Anuj</td>\n",
       "      <td>5.2</td>\n",
       "      <td>Msc</td>\n",
       "      <td>Dakhar</td>\n",
       "      <td>21</td>\n",
       "      <td>Parrot</td>\n",
       "      <td>Cricket</td>\n",
       "      <td>Carrot Halwa</td>\n",
       "    </tr>\n",
       "    <tr>\n",
       "      <th>2</th>\n",
       "      <td>Gaurav</td>\n",
       "      <td>5.1</td>\n",
       "      <td>Msc</td>\n",
       "      <td>Chennai</td>\n",
       "      <td>24</td>\n",
       "      <td>Chinchilla</td>\n",
       "      <td>PaddleBoarding</td>\n",
       "      <td>waffels</td>\n",
       "    </tr>\n",
       "    <tr>\n",
       "      <th>0</th>\n",
       "      <td>Jai</td>\n",
       "      <td>5.1</td>\n",
       "      <td>Msc</td>\n",
       "      <td>Delhi</td>\n",
       "      <td>21</td>\n",
       "      <td>Dog</td>\n",
       "      <td>Darts</td>\n",
       "      <td>ice cream</td>\n",
       "    </tr>\n",
       "    <tr>\n",
       "      <th>1</th>\n",
       "      <td>janusha</td>\n",
       "      <td>6.2</td>\n",
       "      <td>MA</td>\n",
       "      <td>Doha</td>\n",
       "      <td>23</td>\n",
       "      <td>Bunny</td>\n",
       "      <td>Basketball</td>\n",
       "      <td>Cashew Fudge</td>\n",
       "    </tr>\n",
       "  </tbody>\n",
       "</table>\n",
       "</div>"
      ],
      "text/plain": [
       "      Name  Height Qualification  address  Age        Pets           sport  \\\n",
       "3     Anuj     5.2           Msc   Dakhar   21      Parrot         Cricket   \n",
       "2   Gaurav     5.1           Msc  Chennai   24  Chinchilla  PaddleBoarding   \n",
       "0      Jai     5.1           Msc    Delhi   21         Dog           Darts   \n",
       "1  janusha     6.2            MA     Doha   23       Bunny      Basketball   \n",
       "\n",
       "  Favorite Dessert  \n",
       "3     Carrot Halwa  \n",
       "2          waffels  \n",
       "0        ice cream  \n",
       "1     Cashew Fudge  "
      ]
     },
     "execution_count": 67,
     "metadata": {},
     "output_type": "execute_result"
    }
   ],
   "source": [
    "studentDatadict ={\n",
    "         'Name': ['Jai', 'janusha', 'Gaurav', 'Anuj'],\n",
    "         'Height': [5.1, 6.2, 5.1, 5.2],\n",
    "         'Qualification': ['Msc', 'MA', 'Msc', 'Msc'],\n",
    "         'address': ['Delhi', 'Doha', 'Chennai', 'Dakhar'],\n",
    "         'Age': [21, 23, 24, 21],\n",
    "         'Pets': ['Dog', 'Bunny', 'Chinchilla', 'Parrot'],\n",
    "         'sport': ['Darts', 'Basketball', 'PaddleBoarding', 'Cricket']\n",
    "        }\n",
    "studentData = pd.DataFrame(studentDatadict)\n",
    "dessert = [\"ice cream\", \"Cashew Fudge\", \"waffels\", \"Carrot Halwa\"]\n",
    "studentData[\"Favorite Dessert\"] = dessert\n",
    "studentData.sort_values(by = [\"Name\", \"address\"], inplace = True)"
   ]
  },
  {
   "cell_type": "code",
   "execution_count": 68,
   "metadata": {},
   "outputs": [],
   "source": [
    "df = pd.DataFrame({'Cows': [12, 20], 'Goats': [22, 19]}, index=['Year 1', 'Year 2'])\n",
    "df.to_csv(\"cows_and_goats.csv\")"
   ]
  },
  {
   "cell_type": "code",
   "execution_count": 74,
   "metadata": {},
   "outputs": [],
   "source": [
    "vegetables = pd.DataFrame({\n",
    "   \"Vegetable\" :[\"Carrot\", \"Beet\"],\n",
    "   \"Color\" :[\"NULL\", \"Red\"]\n",
    "   })\n",
    "   \n",
    "vegetables.to_csv(\"vegetables.csv\")"
   ]
  },
  {
   "cell_type": "code",
   "execution_count": 79,
   "metadata": {},
   "outputs": [],
   "source": [
    "placeHolder = pd.read_csv(\"vegetables.csv\")\n",
    "placeHolder.fillna(\"Orange\", inplace=True)\n",
    "placeHolder.to_csv(\"vegetablesUpdated.csv\")\n"
   ]
  }
 ],
 "metadata": {
  "kernelspec": {
   "display_name": "Python 3",
   "language": "python",
   "name": "python3"
  },
  "language_info": {
   "codemirror_mode": {
    "name": "ipython",
    "version": 3
   },
   "file_extension": ".py",
   "mimetype": "text/x-python",
   "name": "python",
   "nbconvert_exporter": "python",
   "pygments_lexer": "ipython3",
   "version": "3.13.1"
  }
 },
 "nbformat": 4,
 "nbformat_minor": 2
}
