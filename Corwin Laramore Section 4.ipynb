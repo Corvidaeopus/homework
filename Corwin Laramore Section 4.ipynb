{
 "cells": [
  {
   "cell_type": "markdown",
   "metadata": {},
   "source": [
    "#### 1. What does one need to do to use a module?\n",
    "    To use a module or a library, you first need to import it such as:\n",
    "        import numpy as np\n",
    "            or  \n",
    "        import random\n",
    "    You then need to call the functions of the module or library, i.e.:\n",
    "        random.choice()\n",
    "\n",
    "#### 2. Name a Module (not the DateTime Nodule) we looked at and write a line or 2 of code as an example using this module.\n",
    "    Random\n",
    "    \n",
    "    import random as rand\n",
    "    x = rand.random()\n",
    "    x = x - 0.5\n",
    "    if x > 0:\n",
    "        print(\"You have a poisitive number!\")\n",
    "    else:\n",
    "        print(\"You have a nonpositive number!\")  \n",
    "    print(\"The number is\", x)\n",
    "\n",
    "#### 3. What is a benefit of using Exception handling?\n",
    "    You can use it to log errors more easily.\n",
    "\n",
    "#### 4. what are the 4 components used for Python Exception Handling?\n",
    "    The four blocks used in exception handling are 'try' 'except' 'else' and 'finally'\n",
    "\n",
    "#### 5. NumPy arrays are like what Python data type?\n",
    "    Lists. I mean, kinda, at least.\n",
    "\n",
    "#### 6. What is one of the main benefits of using NumPy arrays.\n",
    "    They store all of the data in a discrete location, rather than it being spread out across the diskspace, which allows for quicker allocation and reference, speeding up the calculations and the program. They are also all of the same data type (i.e. integers), which allows it to take up a lot less space.\n",
    "\n",
    "#### 7. What is one of the main requirements about the 'dtype' of NumPy arrays?\n",
    "    All of the data must be the same data type. I feel like I probably should have read this question before going on the tangent about it above.\n",
    "\n",
    "#### 8. Of the 10 uses of NumPy, name 2.\n",
    "    Creating and manipulating arrays. Numpy is also a big part of many data visualization and mathematical libraries, such as Pandas, Matplotlib and SciPy\n",
    "\n",
    "\n",
    "#### 9. Name one of the other libraries we'll use with NumPy?\n",
    "    Again, I should probably read the questions before I start answering them, but as I said before, Pandas.\n",
    "\n",
    "\n",
    "#### 10. What is the shape of NumPy arrays?\n",
    "    The shape is the dimensions, rows and columns of the array.\n",
    "\n",
    "\n",
    "#### 11. What is a Tensor?\n",
    "    An array with 3 or more dimensions\n",
    "\n",
    "\n",
    "#### 12. Name a reason why it's better using  NumPy for Data Analysis than using a Python List?\n",
    "    Faster and smaller.\n",
    "\n",
    "#### 13. When creating an \"empty\" array, where do the elements come from?\n",
    "    If you mean the data inside of it, it comes from arbitary data that is already in the space that the array reserves.\n"
   ]
  },
  {
   "cell_type": "markdown",
   "metadata": {},
   "source": [
    "# Flow Control Methods:"
   ]
  },
  {
   "cell_type": "code",
   "execution_count": 54,
   "metadata": {},
   "outputs": [
    {
     "name": "stdout",
     "output_type": "stream",
     "text": [
      "Renting a car is very expensive.\n"
     ]
    }
   ],
   "source": [
    "#I am going a bit off the mark so that the code actually works here. It bothers me that running these will throw errors.\n",
    "#Question 1\n",
    "\n",
    "age = int(input(\"How old are you?\"))\n",
    "if age >= 25:\n",
    "    print(\"Renting a car is more affordable.\")\n",
    "if age < 25:\n",
    "    print(\"Renting a car is very expensive.\")"
   ]
  },
  {
   "cell_type": "code",
   "execution_count": 53,
   "metadata": {},
   "outputs": [
    {
     "name": "stdout",
     "output_type": "stream",
     "text": [
      "Renting a car is expensive.\n"
     ]
    }
   ],
   "source": [
    "#Question 2\n",
    "\n",
    "age = int(input(\"How old are you?\"))\n",
    "if age >= 25:\n",
    "    print(\"Renting a car is more affordable.\")\n",
    "elif age <25 and age >=18:\n",
    "    print(\"Renting a car is expensive.\")\n",
    "elif age < 18:\n",
    "    print(\"You cannot legally rent a car.\")"
   ]
  },
  {
   "cell_type": "code",
   "execution_count": 52,
   "metadata": {},
   "outputs": [
    {
     "name": "stdout",
     "output_type": "stream",
     "text": [
      "euioouoeeao"
     ]
    }
   ],
   "source": [
    "#Question 3\n",
    "\n",
    "questionString = \"The quick brown fox jumps over the lazy dog\"\n",
    "for letter in questionString:\n",
    "    if letter in \"AaEeIiOoUu\":\n",
    "        print(letter, end=\"\")"
   ]
  },
  {
   "cell_type": "code",
   "execution_count": null,
   "metadata": {},
   "outputs": [],
   "source": [
    "#Question 4\n",
    "couture = [\"trousers\", \"blouse\", \"bandana\", \"cumber band\", \"blazer\", \"vest\", \"french beret\", \"scarf\", \"stole\"]\n",
    "panettone = {\"cerise\", \"fuchsia\", \"aqua\", \"maple\", \"auburn\", \"burnt sienna\", \"gunmetal blue\", \"Dark Sapphire\"}\n",
    "for color in panettone:\n",
    "    for article in couture:  \n",
    "        print(color, article)\n",
    "\n"
   ]
  },
  {
   "cell_type": "code",
   "execution_count": 64,
   "metadata": {},
   "outputs": [
    {
     "name": "stdout",
     "output_type": "stream",
     "text": [
      "5050\n"
     ]
    }
   ],
   "source": [
    "#Question 5\n",
    "total = 0\n",
    "for number in range(1, 101):\n",
    "   total += number\n",
    "print(total)"
   ]
  },
  {
   "cell_type": "code",
   "execution_count": 68,
   "metadata": {},
   "outputs": [
    {
     "name": "stdout",
     "output_type": "stream",
     "text": [
      "banana\n"
     ]
    }
   ],
   "source": [
    "#Question 6\n",
    "fruits = [\"apple\", \"banana\", \"cherry\"]\n",
    "print (fruits[1])"
   ]
  },
  {
   "cell_type": "code",
   "execution_count": 67,
   "metadata": {},
   "outputs": [
    {
     "name": "stdout",
     "output_type": "stream",
     "text": [
      "['kiwi', 'banana', 'cherry']\n"
     ]
    }
   ],
   "source": [
    "#Question 7\n",
    "fruits = [\"apple\", \"banana\", \"cherry\"]\n",
    "fruits[0] = \"kiwi\"\n",
    "print (fruits)"
   ]
  },
  {
   "cell_type": "code",
   "execution_count": 69,
   "metadata": {},
   "outputs": [
    {
     "name": "stdout",
     "output_type": "stream",
     "text": [
      "['apple', 'banana', 'cherry', 'orange']\n"
     ]
    }
   ],
   "source": [
    "#Question 8\n",
    "fruits = [\"apple\", \"banana\", \"cherry\"]\n",
    "fruits.append(\"orange\")\n",
    "print (fruits)"
   ]
  },
  {
   "cell_type": "code",
   "execution_count": 70,
   "metadata": {},
   "outputs": [
    {
     "name": "stdout",
     "output_type": "stream",
     "text": [
      "['apple', 'lemon', 'banana', 'cherry']\n"
     ]
    }
   ],
   "source": [
    "#Question 9\n",
    "fruits = [\"apple\", \"banana\", \"cherry\"]\n",
    "fruits.insert(1, \"lemon\")\n",
    "print (fruits)"
   ]
  },
  {
   "cell_type": "code",
   "execution_count": 74,
   "metadata": {},
   "outputs": [
    {
     "name": "stdout",
     "output_type": "stream",
     "text": [
      "['apple', 'cherry']\n"
     ]
    }
   ],
   "source": [
    "#Question 10\n",
    "fruits = [\"apple\", \"banana\", \"cherry\"]\n",
    "fruits.remove(\"banana\") #This can also be achieved by using pop and using the index\n",
    "print (fruits)\n"
   ]
  },
  {
   "cell_type": "code",
   "execution_count": 87,
   "metadata": {},
   "outputs": [
    {
     "name": "stdout",
     "output_type": "stream",
     "text": [
      "['cherry', 'melon']\n"
     ]
    }
   ],
   "source": [
    "#Question 11\n",
    "fruits = [\"apple\", \"banana\", \"cherry\", \"orange\", \"kiwi\", \"melon\", \"mango\"]\n",
    "print (fruits[-5:7:3])"
   ]
  },
  {
   "cell_type": "code",
   "execution_count": 90,
   "metadata": {},
   "outputs": [
    {
     "name": "stdout",
     "output_type": "stream",
     "text": [
      "['cherry', 'orange', 'kiwi']\n"
     ]
    }
   ],
   "source": [
    "#Question 12\n",
    "fruits = [\"apple\", \"banana\", \"cherry\", \"orange\", \"kiwi\", \"melon\", \"mango\"]\n",
    "print (fruits[2:5])"
   ]
  },
  {
   "cell_type": "code",
   "execution_count": 92,
   "metadata": {},
   "outputs": [
    {
     "name": "stdout",
     "output_type": "stream",
     "text": [
      "7\n"
     ]
    }
   ],
   "source": [
    "#Question 13\n",
    "fruits = [\"apple\", \"banana\", \"cherry\", \"orange\", \"kiwi\", \"melon\", \"mango\"]\n",
    "print (len(fruits))"
   ]
  },
  {
   "cell_type": "code",
   "execution_count": 103,
   "metadata": {},
   "outputs": [
    {
     "name": "stdout",
     "output_type": "stream",
     "text": [
      "['orange', 'melon', 'mango', 'kiwi', 'cherry', 'banana', 'apple']\n"
     ]
    }
   ],
   "source": [
    "#Question 14\n",
    "fruits = [\"apple\", \"banana\", \"cherry\", \"orange\", \"kiwi\", \"melon\", \"mango\"]\n",
    "fruits.sort(reverse=True)\n",
    "print (fruits)\n",
    "#While this is technically sorted in reverse (alphabetical) order, I feel like the question was asking for reverse order of the list.\n",
    "#fruits.reverse() would be the way to do that.\n"
   ]
  },
  {
   "cell_type": "code",
   "execution_count": 121,
   "metadata": {},
   "outputs": [
    {
     "name": "stdout",
     "output_type": "stream",
     "text": [
      "2025-01-10 20:58:12.694822\n",
      "January\n"
     ]
    }
   ],
   "source": [
    "#Question 15\n",
    "#It says to use a Python file for this part, but the initial instructions say to use either a Jupyter file or Python file, and\n",
    "# I don't see the point in making another file for this. I will just write the code here.\n",
    "import datetime as dt\n",
    "dateVar = dt.datetime.now()\n",
    "print(dateVar)\n",
    "if dateVar.month == 1:\n",
    "   print(\"January\")\n",
    "elif dateVar.month == 2:\n",
    "   print(\"February\")\n",
    "elif dateVar.month == 3:\n",
    "   print(\"March\")\n",
    "elif dateVar.month == 4:\n",
    "   print(\"April\")\n",
    "elif dateVar.month == 5:\n",
    "   print(\"May\")\n",
    "elif dateVar.month == 6:\n",
    "   print(\"June\")\n",
    "elif dateVar.month == 7:\n",
    "   print(\"July\")\n",
    "elif dateVar.month == 8:\n",
    "   print(\"August\")\n",
    "elif dateVar.month == 9:\n",
    "   print(\"September\")\n",
    "elif dateVar.month == 10:\n",
    "   print(\"October\")\n",
    "elif dateVar.month == 11:\n",
    "   print(\"November\")\n",
    "elif dateVar.month == 12:\n",
    "   print(\"December\")\n",
    "#This will extract the month from the datetime saved in dateVar as the question has asked, but the easier way to do it is as follows:\n",
    "#print(\"The month is \" + dateVar.strftime(\"%B\"))"
   ]
  },
  {
   "cell_type": "code",
   "execution_count": 128,
   "metadata": {},
   "outputs": [
    {
     "name": "stdout",
     "output_type": "stream",
     "text": [
      "Hi, Corwin! Happy Sunday!\n",
      "Hi, Corwin! Happy Tuesday!\n"
     ]
    }
   ],
   "source": [
    "#Question 16\n",
    "def fooFunction(inputName, inputDate = \"Sunday\"):\n",
    "   print(\"Hi, \" + inputName + \"! Happy \" + inputDate + \"!\")\n",
    "\n",
    "fooFunction(inputName=\"Corwin\")\n",
    "fooFunction(inputName=\"Corwin\", inputDate=\"Tuesday\")\n",
    "#I am not sure if this is what the question is asking for, but I am assuming that it is asking for a function \n",
    "#that takes in a name and a day of the week as arguments, and then prints a greeting with those arguments."
   ]
  },
  {
   "cell_type": "code",
   "execution_count": 147,
   "metadata": {},
   "outputs": [
    {
     "name": "stdout",
     "output_type": "stream",
     "text": [
      "You did not input an integer. Thanks\n",
      "This is the end of the program. Goodbye.\n"
     ]
    }
   ],
   "source": [
    "#Question 17\n",
    "try:\n",
    "   inputInteger = int(input(\"Please enter an integer: (input a noninteger, please)\"))\n",
    "   print(\"You input: \",  inputInteger)\n",
    "except ValueError:\n",
    "   print(\"You did not input an integer. Thanks\")\n",
    "else:\n",
    "   print(\"You input an integer. Thanks\")\n",
    "finally:\n",
    "   print(\"This is the end of the program. Goodbye.\")\n"
   ]
  }
 ],
 "metadata": {
  "kernelspec": {
   "display_name": "Python 3",
   "language": "python",
   "name": "python3"
  },
  "language_info": {
   "codemirror_mode": {
    "name": "ipython",
    "version": 3
   },
   "file_extension": ".py",
   "mimetype": "text/x-python",
   "name": "python",
   "nbconvert_exporter": "python",
   "pygments_lexer": "ipython3",
   "version": "3.13.1"
  }
 },
 "nbformat": 4,
 "nbformat_minor": 2
}
