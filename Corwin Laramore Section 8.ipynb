{
 "cells": [
  {
   "cell_type": "markdown",
   "metadata": {},
   "source": [
    "SELECT Accel, RTRIM(Accel, '  sec') \n",
    "FROM evCars"
   ]
  },
  {
   "cell_type": "markdown",
   "metadata": {},
   "source": [
    "UPDATE evCars \n",
    "SET Accel = RTRIM(Accel, ' sec')\n",
    "\n",
    "I then verify the update with the following query to ensure it updated. I could have also just looked into the browse data tab.\n",
    "\n",
    "SELECT Accel\n",
    "FROM evCars"
   ]
  },
  {
   "cell_type": "markdown",
   "metadata": {},
   "source": [
    "ALTER TABLE evCars\n",
    "RENAME Accel TO AccelSec"
   ]
  },
  {
   "cell_type": "markdown",
   "metadata": {},
   "source": [
    "The following are simply to ensure my syntax is correct for the updates.\n",
    "SELECT TopSpeed, RTRIM(TopSpeed, ' km/h')\n",
    "FROM evCars\n",
    "\n",
    "SELECT Range, RTRIM(Range, ' km')\n",
    "FROM evCars\n",
    "\n",
    "SELECT efficiency, RTRIM(efficiency, ' Wh/km')\n",
    "FROM evCars\n",
    "\n",
    "SELECT FastCharge, RTRIM(FastCharge, ' km/h')\n",
    "FROM evCars\n"
   ]
  },
  {
   "cell_type": "markdown",
   "metadata": {},
   "source": [
    "I then ran these back to back, checking the Browse Data tab after each to verify\n",
    "UPDATE evCars \n",
    "SET TopSpeed = RTRIM(TopSpeed, ' km/h')\n",
    "\n",
    "UPDATE evCars \n",
    "SET Range = RTRIM(Range, ' km')\n",
    "\n",
    "UPDATE evCars \n",
    "SET efficiency = RTRIM(efficiency, ' Wh/km')\n",
    "\n",
    "UPDATE evCars \n",
    "SET FastCharge = RTRIM(FastCharge, ' km/h')\n",
    "\n",
    "I probably could have ran those all together, but I wanted to make sure that it didn't force a weird update."
   ]
  },
  {
   "cell_type": "markdown",
   "metadata": {},
   "source": [
    "UPDATE evCars\n",
    "SET TopSpeed = TopSpeed * 0.621371\n",
    "\n",
    "ALTER TABLE evCars\n",
    "RENAME TopSpeed to topSpeedMPH\n",
    "\n",
    "Converted to MPH and then changed the name to reflect the conversion, as well as turning the name into camelCase\n",
    "\n",
    "SELECT *\n",
    "FROM evCars\n",
    "\n",
    "At this point, I realized that I forgot to round the data to the first decimal place, so I ran\n",
    "\n",
    "UPDATE evCars\n",
    "SET topSpeedMPH = ROUND(topSpeedMPH, 1)"
   ]
  },
  {
   "cell_type": "markdown",
   "metadata": {},
   "source": [
    "I then ran the next ones, rounding them in the initial step, then changed the column name, verifying in the Browse Data tab.\n",
    "\n",
    "UPDATE evCars\n",
    "SET Range = ROUND(Range * 0.621371, 1)\n",
    "\n",
    "UPDATE evCars\n",
    "SET FastCharge = ROUND(FastCharge * 0.621371, 1)\n",
    "\n",
    "I then tried to rename all of these together using the following.\n",
    "\n",
    "ALTER TABLE evCars\n",
    "RENAME Range to rangeMPH\n",
    "RENAME Efficiency to efficiencyWHperKM\n",
    "RENAME FastCharge to oneHourFastChargeMiles\n",
    "\n",
    "This failed, and I'm not sure why, so I did them indivudually. \n",
    "\n",
    "ALTER TABLE evCars\n",
    "RENAME Range to rangeMPH\n",
    "\n",
    "ALTER TABLE evCars\n",
    "RENAME Efficiency to efficiencyWHperKM\n",
    "\n",
    "ALTER TABLE evCars\n",
    "RENAME FastCharge to oneHourFastChargeMiles\n",
    "\n",
    "I then double checked my work\n",
    "\n",
    "SELECT *\n",
    "FROM evCars"
   ]
  },
  {
   "cell_type": "markdown",
   "metadata": {},
   "source": [
    "SECTION 5\n",
    "\n",
    "SELECT RapidCharge, COUNT(PowerCharge)\n",
    "FROM evCars\n",
    "GROUP BY RapidCharge\n",
    "\n",
    "UPDATE evCars\n",
    "SET RapidCharge = REPLACE(RapidCharge, 'Rapid charging not possible', 'False')\n",
    "\n",
    "UPDATE evCars\n",
    "SET RapidCharge = REPLACE(RapidCharge, 'Rapid charging possible', 'True')\n",
    "\n",
    "The cirriculum then asks me to copy this into the file, so I am doing so rather than putting it in my own words as I have done with the previous statement. \n",
    "\n",
    "For the purpose of this exercise, if the car's `RapidCharge` value equals 'Rapid charging possible' then I want you to change the value to 'True' \n",
    "If the `RapidCharge` value equals 'Rapid charging not possible' then I want you to change the value to 'False'."
   ]
  },
  {
   "cell_type": "markdown",
   "metadata": {},
   "source": [
    "Section 6\n",
    "\n",
    "SELECT PowerTrain, COUNT(PowerTrain)\n",
    "FROM evCars\n",
    "GROUP BY PowerTrain\n",
    "\n",
    "UPDATE evCars\n",
    "SET PowerTrain = REPLACE(PowerTrain, 'All Wheel Drive', 'AWD')\n",
    "\n",
    "UPDATE evCars\n",
    "SET PowerTrain = REPLACE(PowerTrain, 'Front Wheel Drive', 'FWD')\n",
    "\n",
    "UPDATE evCars\n",
    "SET PowerTrain = REPLACE(PowerTrain, 'Rear Wheel Drive', 'RWD')\n",
    "\n",
    "Again, doing some copy and pasting.\n",
    "- look at the three DISTINCT values from the query you wrote in 6.1 and fill in the blanks.\n",
    "- If the PowerTrain equals All Wheel Drive then I want you to change the value to 'AWD'\n",
    "- If the PowerTrain equals Front Wheel Drive then I want you to change the value to 'RWD'\n",
    "- If the PowerTrain equals Rear Wheel Drive then I want you to change the value to 'FWD'\n",
    "\n",
    "SELECT PowerTrain\n",
    "FROM evCars\n",
    "GROUP BY PowerTrain"
   ]
  },
  {
   "cell_type": "markdown",
   "metadata": {},
   "source": [
    "SECTION 7\n",
    "\n",
    "SELECT PriceEuro, ROUND(PriceEuro * 1.09, 2) as priceUSD\n",
    "FROM evCars\n",
    "\n",
    "UPDATE evCars\n",
    "SET PriceEuro = ROUND(PriceEuro * 1.09, 2)\n",
    "\n",
    "ALTER TABLE evCars\n",
    "RENAME PriceEuro to priceUSD"
   ]
  }
 ],
 "metadata": {
  "language_info": {
   "name": "python"
  }
 },
 "nbformat": 4,
 "nbformat_minor": 2
}
